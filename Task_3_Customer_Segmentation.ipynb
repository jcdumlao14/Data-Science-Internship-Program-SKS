{
  "nbformat": 4,
  "nbformat_minor": 0,
  "metadata": {
    "colab": {
      "provenance": [],
      "toc_visible": true,
      "authorship_tag": "ABX9TyPHXwEj0mDMACcuSWuaQN+b",
      "include_colab_link": true
    },
    "kernelspec": {
      "name": "python3",
      "display_name": "Python 3"
    },
    "language_info": {
      "name": "python"
    }
  },
  "cells": [
    {
      "cell_type": "markdown",
      "metadata": {
        "id": "view-in-github",
        "colab_type": "text"
      },
      "source": [
        "<a href=\"https://colab.research.google.com/github/jcdumlao14/Data-Science-Internship-Program-SKS/blob/main/Task_3_Customer_Segmentation.ipynb\" target=\"_parent\"><img src=\"https://colab.research.google.com/assets/colab-badge.svg\" alt=\"Open In Colab\"/></a>"
      ]
    },
    {
      "cell_type": "markdown",
      "source": [
        "# Task 3: Customer Segmentation\n",
        "## Description:\n",
        "*Segment customers based on tenure, monthly charges, and contract type. Analyze churn rates within these segments. Identify high-value customers who are at risk of churning and might need special attention.*\n",
        "## Skills :\n",
        "- Segmentation techniques\n",
        "- Understanding of customer behavior\n",
        "- Churn analysis within segments\n",
        "- Identifying high-value customers.\n"
      ],
      "metadata": {
        "id": "WlvsgoiuCaNR"
      }
    },
    {
      "cell_type": "markdown",
      "source": [
        "# 1. Importing Tools (Libraries):\n",
        "\n",
        "- `import pandas as pd`: Pandas is like a spreadsheet program for Python. It lets you work with data in tables (like the customer information). pd is just a short name we give it so we don't have to type \"pandas\" every time.\n",
        "- `import numpy as np`: NumPy is for doing math and working with numbers efficiently. np is its short name.\n",
        "- `import matplotlib.pyplot as plt`: Matplotlib is used for creating graphs and charts. plt is its short name.\n",
        "- `import seaborn as sns`: Seaborn is another library for making statistical graphs, and it's built on top of Matplotlib. It makes the graphs look nicer. sns is its short name.\n",
        "- `from sklearn.cluster import KMeans`: This imports the \"KMeans\" clustering algorithm from a library called scikit-learn (sklearn). KMeans is the technique used to group customers.\n",
        "- `from sklearn.preprocessing import StandardScaler`: This imports StandardScaler from scikit-learn (sklearn). StandardScaler is used to standardize the features before applying the algorithm.\n",
        "- `from sklearn.metrics import silhouette_score`: This imports a way to measure how well the clustering worked (silhouette score)."
      ],
      "metadata": {
        "id": "rTyX4LFnyan6"
      }
    },
    {
      "cell_type": "code",
      "source": [
        "import pandas as pd\n",
        "import numpy as np\n",
        "import matplotlib.pyplot as plt\n",
        "import seaborn as sns\n",
        "from sklearn.cluster import KMeans\n",
        "from sklearn.preprocessing import StandardScaler\n",
        "from sklearn.metrics import silhouette_score"
      ],
      "metadata": {
        "id": "fqAuitCyRVW3"
      },
      "execution_count": null,
      "outputs": []
    },
    {
      "cell_type": "markdown",
      "source": [
        "# 2. Loading the Data:\n",
        "\n",
        "- `df = pd.read_csv(\"/content/Telco_Customer_Churn_Dataset (3).csv\")`: This reads the customer data from a file named \"Telco_Customer_Churn_Dataset (3).csv\" and stores it in a table called df (short for \"DataFrame\").\n",
        "\n",
        "- `df.head()`: This shows the first few rows of the table, so you can see what the data looks like.\n",
        "\n",
        "- `df.info()`: This gives you information about the table, like what types of data are in each column (numbers, text, etc.) and if there are any missing values."
      ],
      "metadata": {
        "id": "YYq3Yeloyk9S"
      }
    },
    {
      "cell_type": "code",
      "execution_count": null,
      "metadata": {
        "colab": {
          "base_uri": "https://localhost:8080/",
          "height": 342
        },
        "id": "rPL-YGdUCTx1",
        "outputId": "242c51ac-1bad-4fa0-a2a0-d32a068e4da2"
      },
      "outputs": [
        {
          "output_type": "execute_result",
          "data": {
            "text/plain": [
              "   customerID  gender  SeniorCitizen Partner Dependents  tenure PhoneService  \\\n",
              "0  7590-VHVEG  Female              0     Yes         No       1           No   \n",
              "1  5575-GNVDE    Male              0      No         No      34          Yes   \n",
              "2  3668-QPYBK    Male              0      No         No       2          Yes   \n",
              "3  7795-CFOCW    Male              0      No         No      45           No   \n",
              "4  9237-HQITU  Female              0      No         No       2          Yes   \n",
              "\n",
              "      MultipleLines InternetService OnlineSecurity  ... DeviceProtection  \\\n",
              "0  No phone service             DSL             No  ...               No   \n",
              "1                No             DSL            Yes  ...              Yes   \n",
              "2                No             DSL            Yes  ...               No   \n",
              "3  No phone service             DSL            Yes  ...              Yes   \n",
              "4                No     Fiber optic             No  ...               No   \n",
              "\n",
              "  TechSupport StreamingTV StreamingMovies        Contract PaperlessBilling  \\\n",
              "0          No          No              No  Month-to-month              Yes   \n",
              "1          No          No              No        One year               No   \n",
              "2          No          No              No  Month-to-month              Yes   \n",
              "3         Yes          No              No        One year               No   \n",
              "4          No          No              No  Month-to-month              Yes   \n",
              "\n",
              "               PaymentMethod MonthlyCharges  TotalCharges Churn  \n",
              "0           Electronic check          29.85         29.85    No  \n",
              "1               Mailed check          56.95        1889.5    No  \n",
              "2               Mailed check          53.85        108.15   Yes  \n",
              "3  Bank transfer (automatic)          42.30       1840.75    No  \n",
              "4           Electronic check          70.70        151.65   Yes  \n",
              "\n",
              "[5 rows x 21 columns]"
            ],
            "text/html": [
              "\n",
              "  <div id=\"df-4688742e-2ac9-41aa-bda2-ace565005f6d\" class=\"colab-df-container\">\n",
              "    <div>\n",
              "<style scoped>\n",
              "    .dataframe tbody tr th:only-of-type {\n",
              "        vertical-align: middle;\n",
              "    }\n",
              "\n",
              "    .dataframe tbody tr th {\n",
              "        vertical-align: top;\n",
              "    }\n",
              "\n",
              "    .dataframe thead th {\n",
              "        text-align: right;\n",
              "    }\n",
              "</style>\n",
              "<table border=\"1\" class=\"dataframe\">\n",
              "  <thead>\n",
              "    <tr style=\"text-align: right;\">\n",
              "      <th></th>\n",
              "      <th>customerID</th>\n",
              "      <th>gender</th>\n",
              "      <th>SeniorCitizen</th>\n",
              "      <th>Partner</th>\n",
              "      <th>Dependents</th>\n",
              "      <th>tenure</th>\n",
              "      <th>PhoneService</th>\n",
              "      <th>MultipleLines</th>\n",
              "      <th>InternetService</th>\n",
              "      <th>OnlineSecurity</th>\n",
              "      <th>...</th>\n",
              "      <th>DeviceProtection</th>\n",
              "      <th>TechSupport</th>\n",
              "      <th>StreamingTV</th>\n",
              "      <th>StreamingMovies</th>\n",
              "      <th>Contract</th>\n",
              "      <th>PaperlessBilling</th>\n",
              "      <th>PaymentMethod</th>\n",
              "      <th>MonthlyCharges</th>\n",
              "      <th>TotalCharges</th>\n",
              "      <th>Churn</th>\n",
              "    </tr>\n",
              "  </thead>\n",
              "  <tbody>\n",
              "    <tr>\n",
              "      <th>0</th>\n",
              "      <td>7590-VHVEG</td>\n",
              "      <td>Female</td>\n",
              "      <td>0</td>\n",
              "      <td>Yes</td>\n",
              "      <td>No</td>\n",
              "      <td>1</td>\n",
              "      <td>No</td>\n",
              "      <td>No phone service</td>\n",
              "      <td>DSL</td>\n",
              "      <td>No</td>\n",
              "      <td>...</td>\n",
              "      <td>No</td>\n",
              "      <td>No</td>\n",
              "      <td>No</td>\n",
              "      <td>No</td>\n",
              "      <td>Month-to-month</td>\n",
              "      <td>Yes</td>\n",
              "      <td>Electronic check</td>\n",
              "      <td>29.85</td>\n",
              "      <td>29.85</td>\n",
              "      <td>No</td>\n",
              "    </tr>\n",
              "    <tr>\n",
              "      <th>1</th>\n",
              "      <td>5575-GNVDE</td>\n",
              "      <td>Male</td>\n",
              "      <td>0</td>\n",
              "      <td>No</td>\n",
              "      <td>No</td>\n",
              "      <td>34</td>\n",
              "      <td>Yes</td>\n",
              "      <td>No</td>\n",
              "      <td>DSL</td>\n",
              "      <td>Yes</td>\n",
              "      <td>...</td>\n",
              "      <td>Yes</td>\n",
              "      <td>No</td>\n",
              "      <td>No</td>\n",
              "      <td>No</td>\n",
              "      <td>One year</td>\n",
              "      <td>No</td>\n",
              "      <td>Mailed check</td>\n",
              "      <td>56.95</td>\n",
              "      <td>1889.5</td>\n",
              "      <td>No</td>\n",
              "    </tr>\n",
              "    <tr>\n",
              "      <th>2</th>\n",
              "      <td>3668-QPYBK</td>\n",
              "      <td>Male</td>\n",
              "      <td>0</td>\n",
              "      <td>No</td>\n",
              "      <td>No</td>\n",
              "      <td>2</td>\n",
              "      <td>Yes</td>\n",
              "      <td>No</td>\n",
              "      <td>DSL</td>\n",
              "      <td>Yes</td>\n",
              "      <td>...</td>\n",
              "      <td>No</td>\n",
              "      <td>No</td>\n",
              "      <td>No</td>\n",
              "      <td>No</td>\n",
              "      <td>Month-to-month</td>\n",
              "      <td>Yes</td>\n",
              "      <td>Mailed check</td>\n",
              "      <td>53.85</td>\n",
              "      <td>108.15</td>\n",
              "      <td>Yes</td>\n",
              "    </tr>\n",
              "    <tr>\n",
              "      <th>3</th>\n",
              "      <td>7795-CFOCW</td>\n",
              "      <td>Male</td>\n",
              "      <td>0</td>\n",
              "      <td>No</td>\n",
              "      <td>No</td>\n",
              "      <td>45</td>\n",
              "      <td>No</td>\n",
              "      <td>No phone service</td>\n",
              "      <td>DSL</td>\n",
              "      <td>Yes</td>\n",
              "      <td>...</td>\n",
              "      <td>Yes</td>\n",
              "      <td>Yes</td>\n",
              "      <td>No</td>\n",
              "      <td>No</td>\n",
              "      <td>One year</td>\n",
              "      <td>No</td>\n",
              "      <td>Bank transfer (automatic)</td>\n",
              "      <td>42.30</td>\n",
              "      <td>1840.75</td>\n",
              "      <td>No</td>\n",
              "    </tr>\n",
              "    <tr>\n",
              "      <th>4</th>\n",
              "      <td>9237-HQITU</td>\n",
              "      <td>Female</td>\n",
              "      <td>0</td>\n",
              "      <td>No</td>\n",
              "      <td>No</td>\n",
              "      <td>2</td>\n",
              "      <td>Yes</td>\n",
              "      <td>No</td>\n",
              "      <td>Fiber optic</td>\n",
              "      <td>No</td>\n",
              "      <td>...</td>\n",
              "      <td>No</td>\n",
              "      <td>No</td>\n",
              "      <td>No</td>\n",
              "      <td>No</td>\n",
              "      <td>Month-to-month</td>\n",
              "      <td>Yes</td>\n",
              "      <td>Electronic check</td>\n",
              "      <td>70.70</td>\n",
              "      <td>151.65</td>\n",
              "      <td>Yes</td>\n",
              "    </tr>\n",
              "  </tbody>\n",
              "</table>\n",
              "<p>5 rows × 21 columns</p>\n",
              "</div>\n",
              "    <div class=\"colab-df-buttons\">\n",
              "\n",
              "  <div class=\"colab-df-container\">\n",
              "    <button class=\"colab-df-convert\" onclick=\"convertToInteractive('df-4688742e-2ac9-41aa-bda2-ace565005f6d')\"\n",
              "            title=\"Convert this dataframe to an interactive table.\"\n",
              "            style=\"display:none;\">\n",
              "\n",
              "  <svg xmlns=\"http://www.w3.org/2000/svg\" height=\"24px\" viewBox=\"0 -960 960 960\">\n",
              "    <path d=\"M120-120v-720h720v720H120Zm60-500h600v-160H180v160Zm220 220h160v-160H400v160Zm0 220h160v-160H400v160ZM180-400h160v-160H180v160Zm440 0h160v-160H620v160ZM180-180h160v-160H180v160Zm440 0h160v-160H620v160Z\"/>\n",
              "  </svg>\n",
              "    </button>\n",
              "\n",
              "  <style>\n",
              "    .colab-df-container {\n",
              "      display:flex;\n",
              "      gap: 12px;\n",
              "    }\n",
              "\n",
              "    .colab-df-convert {\n",
              "      background-color: #E8F0FE;\n",
              "      border: none;\n",
              "      border-radius: 50%;\n",
              "      cursor: pointer;\n",
              "      display: none;\n",
              "      fill: #1967D2;\n",
              "      height: 32px;\n",
              "      padding: 0 0 0 0;\n",
              "      width: 32px;\n",
              "    }\n",
              "\n",
              "    .colab-df-convert:hover {\n",
              "      background-color: #E2EBFA;\n",
              "      box-shadow: 0px 1px 2px rgba(60, 64, 67, 0.3), 0px 1px 3px 1px rgba(60, 64, 67, 0.15);\n",
              "      fill: #174EA6;\n",
              "    }\n",
              "\n",
              "    .colab-df-buttons div {\n",
              "      margin-bottom: 4px;\n",
              "    }\n",
              "\n",
              "    [theme=dark] .colab-df-convert {\n",
              "      background-color: #3B4455;\n",
              "      fill: #D2E3FC;\n",
              "    }\n",
              "\n",
              "    [theme=dark] .colab-df-convert:hover {\n",
              "      background-color: #434B5C;\n",
              "      box-shadow: 0px 1px 3px 1px rgba(0, 0, 0, 0.15);\n",
              "      filter: drop-shadow(0px 1px 2px rgba(0, 0, 0, 0.3));\n",
              "      fill: #FFFFFF;\n",
              "    }\n",
              "  </style>\n",
              "\n",
              "    <script>\n",
              "      const buttonEl =\n",
              "        document.querySelector('#df-4688742e-2ac9-41aa-bda2-ace565005f6d button.colab-df-convert');\n",
              "      buttonEl.style.display =\n",
              "        google.colab.kernel.accessAllowed ? 'block' : 'none';\n",
              "\n",
              "      async function convertToInteractive(key) {\n",
              "        const element = document.querySelector('#df-4688742e-2ac9-41aa-bda2-ace565005f6d');\n",
              "        const dataTable =\n",
              "          await google.colab.kernel.invokeFunction('convertToInteractive',\n",
              "                                                    [key], {});\n",
              "        if (!dataTable) return;\n",
              "\n",
              "        const docLinkHtml = 'Like what you see? Visit the ' +\n",
              "          '<a target=\"_blank\" href=https://colab.research.google.com/notebooks/data_table.ipynb>data table notebook</a>'\n",
              "          + ' to learn more about interactive tables.';\n",
              "        element.innerHTML = '';\n",
              "        dataTable['output_type'] = 'display_data';\n",
              "        await google.colab.output.renderOutput(dataTable, element);\n",
              "        const docLink = document.createElement('div');\n",
              "        docLink.innerHTML = docLinkHtml;\n",
              "        element.appendChild(docLink);\n",
              "      }\n",
              "    </script>\n",
              "  </div>\n",
              "\n",
              "\n",
              "<div id=\"df-84372808-94a7-4f9f-93aa-146861c2dce2\">\n",
              "  <button class=\"colab-df-quickchart\" onclick=\"quickchart('df-84372808-94a7-4f9f-93aa-146861c2dce2')\"\n",
              "            title=\"Suggest charts\"\n",
              "            style=\"display:none;\">\n",
              "\n",
              "<svg xmlns=\"http://www.w3.org/2000/svg\" height=\"24px\"viewBox=\"0 0 24 24\"\n",
              "     width=\"24px\">\n",
              "    <g>\n",
              "        <path d=\"M19 3H5c-1.1 0-2 .9-2 2v14c0 1.1.9 2 2 2h14c1.1 0 2-.9 2-2V5c0-1.1-.9-2-2-2zM9 17H7v-7h2v7zm4 0h-2V7h2v10zm4 0h-2v-4h2v4z\"/>\n",
              "    </g>\n",
              "</svg>\n",
              "  </button>\n",
              "\n",
              "<style>\n",
              "  .colab-df-quickchart {\n",
              "      --bg-color: #E8F0FE;\n",
              "      --fill-color: #1967D2;\n",
              "      --hover-bg-color: #E2EBFA;\n",
              "      --hover-fill-color: #174EA6;\n",
              "      --disabled-fill-color: #AAA;\n",
              "      --disabled-bg-color: #DDD;\n",
              "  }\n",
              "\n",
              "  [theme=dark] .colab-df-quickchart {\n",
              "      --bg-color: #3B4455;\n",
              "      --fill-color: #D2E3FC;\n",
              "      --hover-bg-color: #434B5C;\n",
              "      --hover-fill-color: #FFFFFF;\n",
              "      --disabled-bg-color: #3B4455;\n",
              "      --disabled-fill-color: #666;\n",
              "  }\n",
              "\n",
              "  .colab-df-quickchart {\n",
              "    background-color: var(--bg-color);\n",
              "    border: none;\n",
              "    border-radius: 50%;\n",
              "    cursor: pointer;\n",
              "    display: none;\n",
              "    fill: var(--fill-color);\n",
              "    height: 32px;\n",
              "    padding: 0;\n",
              "    width: 32px;\n",
              "  }\n",
              "\n",
              "  .colab-df-quickchart:hover {\n",
              "    background-color: var(--hover-bg-color);\n",
              "    box-shadow: 0 1px 2px rgba(60, 64, 67, 0.3), 0 1px 3px 1px rgba(60, 64, 67, 0.15);\n",
              "    fill: var(--button-hover-fill-color);\n",
              "  }\n",
              "\n",
              "  .colab-df-quickchart-complete:disabled,\n",
              "  .colab-df-quickchart-complete:disabled:hover {\n",
              "    background-color: var(--disabled-bg-color);\n",
              "    fill: var(--disabled-fill-color);\n",
              "    box-shadow: none;\n",
              "  }\n",
              "\n",
              "  .colab-df-spinner {\n",
              "    border: 2px solid var(--fill-color);\n",
              "    border-color: transparent;\n",
              "    border-bottom-color: var(--fill-color);\n",
              "    animation:\n",
              "      spin 1s steps(1) infinite;\n",
              "  }\n",
              "\n",
              "  @keyframes spin {\n",
              "    0% {\n",
              "      border-color: transparent;\n",
              "      border-bottom-color: var(--fill-color);\n",
              "      border-left-color: var(--fill-color);\n",
              "    }\n",
              "    20% {\n",
              "      border-color: transparent;\n",
              "      border-left-color: var(--fill-color);\n",
              "      border-top-color: var(--fill-color);\n",
              "    }\n",
              "    30% {\n",
              "      border-color: transparent;\n",
              "      border-left-color: var(--fill-color);\n",
              "      border-top-color: var(--fill-color);\n",
              "      border-right-color: var(--fill-color);\n",
              "    }\n",
              "    40% {\n",
              "      border-color: transparent;\n",
              "      border-right-color: var(--fill-color);\n",
              "      border-top-color: var(--fill-color);\n",
              "    }\n",
              "    60% {\n",
              "      border-color: transparent;\n",
              "      border-right-color: var(--fill-color);\n",
              "    }\n",
              "    80% {\n",
              "      border-color: transparent;\n",
              "      border-right-color: var(--fill-color);\n",
              "      border-bottom-color: var(--fill-color);\n",
              "    }\n",
              "    90% {\n",
              "      border-color: transparent;\n",
              "      border-bottom-color: var(--fill-color);\n",
              "    }\n",
              "  }\n",
              "</style>\n",
              "\n",
              "  <script>\n",
              "    async function quickchart(key) {\n",
              "      const quickchartButtonEl =\n",
              "        document.querySelector('#' + key + ' button');\n",
              "      quickchartButtonEl.disabled = true;  // To prevent multiple clicks.\n",
              "      quickchartButtonEl.classList.add('colab-df-spinner');\n",
              "      try {\n",
              "        const charts = await google.colab.kernel.invokeFunction(\n",
              "            'suggestCharts', [key], {});\n",
              "      } catch (error) {\n",
              "        console.error('Error during call to suggestCharts:', error);\n",
              "      }\n",
              "      quickchartButtonEl.classList.remove('colab-df-spinner');\n",
              "      quickchartButtonEl.classList.add('colab-df-quickchart-complete');\n",
              "    }\n",
              "    (() => {\n",
              "      let quickchartButtonEl =\n",
              "        document.querySelector('#df-84372808-94a7-4f9f-93aa-146861c2dce2 button');\n",
              "      quickchartButtonEl.style.display =\n",
              "        google.colab.kernel.accessAllowed ? 'block' : 'none';\n",
              "    })();\n",
              "  </script>\n",
              "</div>\n",
              "\n",
              "    </div>\n",
              "  </div>\n"
            ],
            "application/vnd.google.colaboratory.intrinsic+json": {
              "type": "dataframe",
              "variable_name": "df"
            }
          },
          "metadata": {},
          "execution_count": 2
        }
      ],
      "source": [
        "# Load the dataset\n",
        "df = pd.read_csv(\"/content/Telco_Customer_Churn_Dataset  (3).csv\")\n",
        "df.head()"
      ]
    },
    {
      "cell_type": "code",
      "source": [
        "df.info()"
      ],
      "metadata": {
        "colab": {
          "base_uri": "https://localhost:8080/"
        },
        "id": "C72fkaxbzElJ",
        "outputId": "ab31d343-a379-4f47-b4f2-712d80ef00cd"
      },
      "execution_count": null,
      "outputs": [
        {
          "output_type": "stream",
          "name": "stdout",
          "text": [
            "<class 'pandas.core.frame.DataFrame'>\n",
            "RangeIndex: 7043 entries, 0 to 7042\n",
            "Data columns (total 21 columns):\n",
            " #   Column            Non-Null Count  Dtype  \n",
            "---  ------            --------------  -----  \n",
            " 0   customerID        7043 non-null   object \n",
            " 1   gender            7043 non-null   object \n",
            " 2   SeniorCitizen     7043 non-null   int64  \n",
            " 3   Partner           7043 non-null   object \n",
            " 4   Dependents        7043 non-null   object \n",
            " 5   tenure            7043 non-null   int64  \n",
            " 6   PhoneService      7043 non-null   object \n",
            " 7   MultipleLines     7043 non-null   object \n",
            " 8   InternetService   7043 non-null   object \n",
            " 9   OnlineSecurity    7043 non-null   object \n",
            " 10  OnlineBackup      7043 non-null   object \n",
            " 11  DeviceProtection  7043 non-null   object \n",
            " 12  TechSupport       7043 non-null   object \n",
            " 13  StreamingTV       7043 non-null   object \n",
            " 14  StreamingMovies   7043 non-null   object \n",
            " 15  Contract          7043 non-null   object \n",
            " 16  PaperlessBilling  7043 non-null   object \n",
            " 17  PaymentMethod     7043 non-null   object \n",
            " 18  MonthlyCharges    7043 non-null   float64\n",
            " 19  TotalCharges      7043 non-null   object \n",
            " 20  Churn             7043 non-null   object \n",
            "dtypes: float64(1), int64(2), object(18)\n",
            "memory usage: 1.1+ MB\n"
          ]
        }
      ]
    },
    {
      "cell_type": "markdown",
      "source": [
        "# 3. Cleaning and Preparing the Data (Preprocessing):\n",
        "\n",
        "- `df['TotalCharges'] = pd.to_numeric(df['TotalCharges'], errors='coerce')`: The total charges column needs to be converted to numeric type. If it cannot be convered, they are replaced by 'NaN'.\n",
        "\n",
        "- `df['TotalCharges'] = df['TotalCharges'].fillna(0)`: This fills any missing total charge values with 0.\n",
        "\n",
        "- Binary Columns Conversion:\n",
        "\n",
        "  - `binary_cols = ['Partner', 'Dependents', 'PhoneService', 'OnlineSecurity', 'OnlineBackup', 'DeviceProtection', 'TechSupport', 'StreamingTV', 'StreamingMovies', 'PaperlessBilling', 'Churn']`: This makes a list of columns that only have \"Yes\" or \"No\" values (or Male, Female).\n",
        "\n",
        "  - `for col in binary_cols: df[col] = df[col].map({'Yes': 1, 'No': 0})`: This converts \"Yes\" to 1 and \"No\" to 0 in those columns, which is easier for the computer to work with. Same goes for gender below.\n",
        "\n",
        "  - df['gender'] = df['gender'].map({'Male': 1, 'Female': 0})\n",
        "\n",
        "- One-Hot Encoding:\n",
        "\n",
        "  - `df = pd.get_dummies(df, columns=['Contract', 'InternetService'], drop_first=True)`: Some columns have categories like \"Month-to-month contract,\" \"One-year contract,\" etc. This converts these categories into separate columns of 0s and 1s. It makes it clearer for the clustering model to understand. drop_first=True avoids having redundant information (it removes one of the categories). It also handles 'InternetService'.\n"
      ],
      "metadata": {
        "id": "ibshgm5Ayuiq"
      }
    },
    {
      "cell_type": "code",
      "source": [
        "# Data Cleaning and Preprocessing\n",
        "df['TotalCharges'] = pd.to_numeric(df['TotalCharges'], errors='coerce')\n",
        "df['TotalCharges'] = df['TotalCharges'].fillna(0)\n",
        "\n",
        "binary_cols = ['Partner', 'Dependents', 'PhoneService', 'OnlineSecurity', 'OnlineBackup', 'DeviceProtection',\n",
        "               'TechSupport', 'StreamingTV', 'StreamingMovies', 'PaperlessBilling', 'Churn']\n",
        "for col in binary_cols:\n",
        "    df[col] = df[col].map({'Yes': 1, 'No': 0})\n",
        "\n",
        "df['gender'] = df['gender'].map({'Male': 1, 'Female': 0})\n"
      ],
      "metadata": {
        "id": "b4U9fqeuRDOg"
      },
      "execution_count": null,
      "outputs": []
    },
    {
      "cell_type": "markdown",
      "source": [
        "# 4. Selecting Features:\n",
        "\n",
        "- `segmentation_features = ['tenure', 'MonthlyCharges', 'Contract_One year', 'Contract_Two year', 'InternetService_Fiber optic', 'InternetService_No']`: This chooses which columns from the data table will be used to group the customers. These are called \"features.\" In this case, it's things like:\n",
        "\n",
        "  - `tenure`: How long they've been a customer.\n",
        "  - `MonthlyCharges`: How much they pay each month.\n",
        "  - `Contract_One year, Contract_Two year`: Whether they have a one or two year contract.\n",
        "  - `InternetService_Fiber optic, InternetService_No`: Whether they use fiber optic internet or don't have internet service.\n",
        "\n",
        "- Handling Missing Features:\n",
        "\n",
        "  - `missing_cols = set(segmentation_features) - set(df.columns)`\n",
        "  - `for c in missing_cols: df[c] = 0`: This makes sure if any of the features are missing (for some reason), it creates those columns and fills them with 0s.\n",
        "\n",
        "- `X = df[segmentation_features]`: This creates a new table called X that only contains the selected features.\n"
      ],
      "metadata": {
        "id": "XNMDSotEzrHi"
      }
    },
    {
      "cell_type": "code",
      "source": [
        "# One-Hot Encode Contract and InternetService\n",
        "df = pd.get_dummies(df, columns=['Contract', 'InternetService'], drop_first=True)\n",
        "\n",
        "# Feature Selection and Scaling\n",
        "segmentation_features = ['tenure', 'MonthlyCharges', 'Contract_One year', 'Contract_Two year', 'InternetService_Fiber optic', 'InternetService_No']\n",
        "\n",
        "# Handle missing columns more gracefully\n",
        "missing_cols = set(segmentation_features) - set(df.columns)\n",
        "for c in missing_cols:\n",
        "    df[c] = 0\n",
        "\n",
        "X = df[segmentation_features]"
      ],
      "metadata": {
        "id": "aQ9ybQT60ssC"
      },
      "execution_count": null,
      "outputs": []
    },
    {
      "cell_type": "markdown",
      "source": [
        "# 5.Scaling the Features:\n",
        "\n",
        "  - `scaler = StandardScaler()`: Creates a scaler object to scale the data.\n",
        "\n",
        "  - `X_scaled = scaler.fit_transform(X)`: This makes sure all the features are on the same scale (have similar ranges of values). This is important because KMeans is affected by the scale of the data. This prevents features with larger values from dominating the clustering."
      ],
      "metadata": {
        "id": "CZzSZQrh04VR"
      }
    },
    {
      "cell_type": "code",
      "source": [
        "scaler = StandardScaler()\n",
        "X_scaled = scaler.fit_transform(X)"
      ],
      "metadata": {
        "id": "GoeBRhba0yUq"
      },
      "execution_count": null,
      "outputs": []
    },
    {
      "cell_type": "markdown",
      "source": [
        "# 6. Finding the Best Number of Clusters:\n",
        "\n",
        "- `Silhouette Score`: The code uses a \"silhouette score\" to help decide how many clusters to use. The silhouette score measures how similar a customer is to its own cluster compared to other clusters. Higher scores are better.\n",
        "- The code loops through different numbers of clusters (2 to 6). For each number, it:\n",
        "\n",
        "   - `kmeans = KMeans(n_clusters=n_clusters, random_state=42, n_init='auto')`: Creates a KMeans clustering model with that number of clusters.\n",
        "\n",
        "   - `cluster_labels = kmeans.fit_predict(X_scaled)`: Runs the KMeans algorithm to group the customers into clusters. fit_predict both trains the model and predicts which cluster each customer belongs to.\n",
        "\n",
        "  - `silhouette_avg = silhouette_score(X_scaled, cluster_labels)`: Calculates the silhouette score.\n",
        "\n",
        "  - `silhouette_scores.append(silhouette_avg)`: Saves the score to be compared later.\n",
        "\n",
        "  - `print(...)`: Prints the score for each number of clusters.\n",
        "\n",
        "- Plotting the Scores:\n",
        "\n",
        "  - `plt.plot(range(2, 7), silhouette_scores, marker='o')`: This creates a graph that shows the silhouette scores for each number of clusters.\n",
        "  - The rest of the plotting code just makes the graph look nice with titles and labels."
      ],
      "metadata": {
        "id": "ObYZx7Wx1AkZ"
      }
    },
    {
      "cell_type": "code",
      "source": [
        "# K-Means Clustering with Silhouette Score\n",
        "silhouette_scores = []\n",
        "for n_clusters in range(2, 7):\n",
        "    kmeans = KMeans(n_clusters=n_clusters, random_state=42, n_init = 'auto') #explicitly declare n_init\n",
        "    cluster_labels = kmeans.fit_predict(X_scaled)\n",
        "    silhouette_avg = silhouette_score(X_scaled, cluster_labels)\n",
        "    silhouette_scores.append(silhouette_avg)\n",
        "    print(f\"For n_clusters = {n_clusters}, the average silhouette_score is : {silhouette_avg}\")\n",
        "\n",
        "plt.plot(range(2, 7), silhouette_scores, marker='o')\n",
        "plt.title('Silhouette Score vs. Number of Clusters', fontsize=14, color='darkblue')\n",
        "plt.xlabel('Number of Clusters', fontsize=12, color='darkgreen')\n",
        "plt.ylabel('Silhouette Score', fontsize=12, color='darkgreen')\n",
        "plt.xticks(fontsize=10)\n",
        "plt.yticks(fontsize=10)\n",
        "plt.show()"
      ],
      "metadata": {
        "colab": {
          "base_uri": "https://localhost:8080/",
          "height": 564
        },
        "id": "rhsYLDw1Gxon",
        "outputId": "ed36fd5c-3923-4020-dbc9-d72d94b7120c"
      },
      "execution_count": null,
      "outputs": [
        {
          "output_type": "stream",
          "name": "stdout",
          "text": [
            "For n_clusters = 2, the average silhouette_score is : 0.32955916929442586\n",
            "For n_clusters = 3, the average silhouette_score is : 0.380738802833623\n",
            "For n_clusters = 4, the average silhouette_score is : 0.42361084668681515\n",
            "For n_clusters = 5, the average silhouette_score is : 0.45464314439812215\n",
            "For n_clusters = 6, the average silhouette_score is : 0.5164205077697585\n"
          ]
        },
        {
          "output_type": "display_data",
          "data": {
            "text/plain": [
              "<Figure size 640x480 with 1 Axes>"
            ],
            "image/png": "[encoded data removed]"
          },
          "metadata": {}
        }
      ]
    },
    {
      "cell_type": "markdown",
      "source": [
        "- `optimal_clusters = 3`: Based on the graph, someone manually chooses the number of clusters that looks best. Here, it's set to 3. This is where you'd look at the silhouette plot and choose the number of clusters with the highest silhouette score."
      ],
      "metadata": {
        "id": "RgehEifu1OTz"
      }
    },
    {
      "cell_type": "code",
      "source": [
        "optimal_clusters = 3  # Adjust based on the Silhouette Score plot"
      ],
      "metadata": {
        "id": "ynK3tx1M10UC"
      },
      "execution_count": null,
      "outputs": []
    },
    {
      "cell_type": "markdown",
      "source": [
        "# 7. Running the Clustering with the Chosen Number of Clusters:\n",
        "\n",
        "- `kmeans = KMeans(n_clusters=optimal_clusters, random_state=42, n_init='auto')`: Creates the KMeans model again, this time with the chosen number of clusters.\n",
        "- `df['cluster'] = kmeans.fit_predict(X_scaled)`: Runs the clustering again and adds a new column to the original data table called \"cluster.\" This column shows which cluster each customer belongs to.\n",
        "- `print(df['cluster'].value_counts())`: This counts how many customers are in each cluster."
      ],
      "metadata": {
        "id": "vBfIZN9C1aK6"
      }
    },
    {
      "cell_type": "code",
      "source": [
        "kmeans = KMeans(n_clusters=optimal_clusters, random_state=42, n_init = 'auto') #explicitly declare n_init\n",
        "df['cluster'] = kmeans.fit_predict(X_scaled)\n",
        "\n",
        "df['cluster'].value_counts()"
      ],
      "metadata": {
        "colab": {
          "base_uri": "https://localhost:8080/",
          "height": 210
        },
        "id": "qmGpzVyRRYqL",
        "outputId": "c17da636-f8c8-4f5e-c9da-6e7b0d2fb3c3"
      },
      "execution_count": null,
      "outputs": [
        {
          "output_type": "execute_result",
          "data": {
            "text/plain": [
              "cluster\n",
              "2    2681\n",
              "1    2676\n",
              "0    1686\n",
              "Name: count, dtype: int64"
            ],
            "text/html": [
              "<div>\n",
              "<style scoped>\n",
              "    .dataframe tbody tr th:only-of-type {\n",
              "        vertical-align: middle;\n",
              "    }\n",
              "\n",
              "    .dataframe tbody tr th {\n",
              "        vertical-align: top;\n",
              "    }\n",
              "\n",
              "    .dataframe thead th {\n",
              "        text-align: right;\n",
              "    }\n",
              "</style>\n",
              "<table border=\"1\" class=\"dataframe\">\n",
              "  <thead>\n",
              "    <tr style=\"text-align: right;\">\n",
              "      <th></th>\n",
              "      <th>count</th>\n",
              "    </tr>\n",
              "    <tr>\n",
              "      <th>cluster</th>\n",
              "      <th></th>\n",
              "    </tr>\n",
              "  </thead>\n",
              "  <tbody>\n",
              "    <tr>\n",
              "      <th>2</th>\n",
              "      <td>2681</td>\n",
              "    </tr>\n",
              "    <tr>\n",
              "      <th>1</th>\n",
              "      <td>2676</td>\n",
              "    </tr>\n",
              "    <tr>\n",
              "      <th>0</th>\n",
              "      <td>1686</td>\n",
              "    </tr>\n",
              "  </tbody>\n",
              "</table>\n",
              "</div><br><label><b>dtype:</b> int64</label>"
            ]
          },
          "metadata": {},
          "execution_count": 9
        }
      ]
    },
    {
      "cell_type": "markdown",
      "source": [
        "# 8. Churn Analysis within Segments:\n",
        "\n",
        "- `cluster_churn_rate = df.groupby('cluster')['Churn'].value_counts(normalize=True).unstack().fillna(0)`: This calculates the churn rate (percentage of customers who left) for each cluster. It is calculated by grouping by cluster, counting churn rate within each cluster, converting into percentages and filling missing data with 0.\n",
        "- `print(\"Churn Rate by Cluster:\\n\", cluster_churn_rate)`: Prints the churn rates.\n",
        "- `Visualizing Churn Rates`: The rest of the code creates a bar graph to show the churn rate for each cluster. The bars are colored differently for \"churned\" and \"not churned\" customers. Annotations are added to make it more interpretable."
      ],
      "metadata": {
        "id": "6_n6tGUR1-EK"
      }
    },
    {
      "cell_type": "code",
      "source": [
        "# Churn Analysis within Segments\n",
        "cluster_churn_rate = df.groupby('cluster')['Churn'].value_counts(normalize=True).unstack().fillna(0)\n",
        "print(\"Churn Rate by Cluster:\\n\", cluster_churn_rate)\n",
        "\n",
        "# Visualize churn rate by cluster with enhancements\n",
        "ax = cluster_churn_rate.plot(kind='bar', stacked=False, figsize=(10, 6), color=['skyblue', 'salmon'])  # Set figure size and colors\n",
        "plt.title('Churn Rate by Cluster', fontsize=16, color='darkblue')\n",
        "plt.xlabel('Cluster', fontsize=12, color='darkgreen')\n",
        "plt.ylabel('Churn Rate', fontsize=12, color='darkgreen')\n",
        "plt.xticks(rotation=0, fontsize=10)\n",
        "plt.yticks(fontsize=10)\n",
        "\n",
        "# Add value annotations on top of the bars\n",
        "for p in ax.patches:\n",
        "    width = p.get_width()\n",
        "    height = p.get_height()\n",
        "    x, y = p.get_xy()\n",
        "    ax.annotate(f'{height:.2%}', (x + width/2, y + height*1.01), ha='center', fontsize=10, color='black')  # Added percentage formatting\n",
        "\n",
        "plt.legend(title='Churn', labels=['No Churn', 'Churn'], fontsize=10)\n",
        "plt.show()"
      ],
      "metadata": {
        "colab": {
          "base_uri": "https://localhost:8080/",
          "height": 674
        },
        "id": "1B7yKAQzRYmH",
        "outputId": "abf6f05b-0f22-4e65-af97-1699ee80b69c"
      },
      "execution_count": null,
      "outputs": [
        {
          "output_type": "stream",
          "name": "stdout",
          "text": [
            "Churn Rate by Cluster:\n",
            " Churn           0         1\n",
            "cluster                    \n",
            "0        0.971530  0.028470\n",
            "1        0.526906  0.473094\n",
            "2        0.792988  0.207012\n"
          ]
        },
        {
          "output_type": "display_data",
          "data": {
            "text/plain": [
              "<Figure size 1000x600 with 1 Axes>"
            ],
            "image/png": "[encoded data removed]"
          },
          "metadata": {}
        }
      ]
    },
    {
      "cell_type": "markdown",
      "source": [
        "# 9. Identifying High-Value Customers at Risk:\n",
        "\n",
        "- `high_value_threshold_monthly = df['MonthlyCharges'].quantile(0.75)`: Determines a threshold (cutoff) for what's considered a \"high\" monthly charge. It uses the 75th percentile (meaning 75% of customers pay less than this amount).\n",
        "- `high_value_threshold_total = df['TotalCharges'].quantile(0.75)`: Does the same thing for total charges.\n",
        "- `high_value_customers = df[(df['MonthlyCharges'] >= high_value_threshold_monthly) & (df['TotalCharges'] >= high_value_threshold_total)]`: Creates a new table containing only the customers who have high monthly charges and high total charges.\n",
        "- `high_value_churn_risk = high_value_customers.groupby('cluster')['Churn'].value_counts(normalize=True).unstack().fillna(0)`: Calculates the churn rate for high-value customers in each cluster.\n",
        "\n",
        "- `print(...)`: Prints the results.\n",
        "\n",
        "- Visualizing High-Value Churn: Again, creates a bar graph to visualize the churn risk among high-value customers in each cluster. Annotations are added to make it more interpretable.\n",
        "\n",
        "- Identifying at Risk Customers:\n",
        "\n",
        "  - `highest_churn_cluster = high_value_churn_risk.index[high_value_churn_risk[1].argmax()]`: Finds the cluster with the highest churn rate among high-value customers.\n",
        "  - `at_risk_customers = high_value_customers[(high_value_customers['cluster'] == highest_churn_cluster) & (high_value_customers['Churn'] == 1)]`: Filters to find high-value customers in that cluster who have already churned.\n",
        "  - `print(...)`: Prints a list of these at-risk customers, including their ID, monthly charges, total charges, and tenure."
      ],
      "metadata": {
        "id": "n2_k23f22OJq"
      }
    },
    {
      "cell_type": "code",
      "source": [
        "# Identifying High-Value Customers at Risk of Churn\n",
        "high_value_threshold_monthly = df['MonthlyCharges'].quantile(0.75)\n",
        "high_value_threshold_total = df['TotalCharges'].quantile(0.75)\n",
        "\n",
        "high_value_customers = df[(df['MonthlyCharges'] >= high_value_threshold_monthly) & (df['TotalCharges'] >= high_value_threshold_total)]\n",
        "\n",
        "high_value_churn_risk = high_value_customers.groupby('cluster')['Churn'].value_counts(normalize=True).unstack().fillna(0)\n",
        "print(\"\\nHigh-Value Customer Churn Risk by Cluster:\\n\", high_value_churn_risk)\n",
        "\n",
        "# Visualize high value churn risk with enhancements\n",
        "ax = high_value_churn_risk.plot(kind='bar', stacked=False, figsize=(10, 6), color=['skyblue', 'salmon'])  # Set figure size and colors\n",
        "plt.title('High-Value Customer Churn Risk by Cluster', fontsize=16, color='darkblue')\n",
        "plt.xlabel('Cluster', fontsize=12, color='darkgreen')\n",
        "plt.ylabel('Churn Rate', fontsize=12, color='darkgreen')\n",
        "plt.xticks(rotation=0, fontsize=10)\n",
        "plt.yticks(fontsize=10)\n",
        "\n",
        "# Add value annotations on top of the bars\n",
        "for p in ax.patches:\n",
        "    width = p.get_width()\n",
        "    height = p.get_height()\n",
        "    x, y = p.get_xy()\n",
        "    ax.annotate(f'{height:.2%}', (x + width/2, y + height*1.01), ha='center', fontsize=10, color='black')  # Added percentage formatting\n",
        "\n",
        "plt.legend(title='Churn', labels=['No Churn', 'Churn'], fontsize=10)\n",
        "plt.show()\n",
        "\n",
        "highest_churn_cluster = high_value_churn_risk.index[high_value_churn_risk[1].argmax()]\n",
        "at_risk_customers = high_value_customers[(high_value_customers['cluster'] == highest_churn_cluster) & (high_value_customers['Churn'] == 1)]\n",
        "\n",
        "print(\"\\nExample High-Value Customers at Risk (Cluster {}):\\n\".format(highest_churn_cluster))\n",
        "\n",
        "if not at_risk_customers.empty:\n",
        "    print(at_risk_customers[['customerID', 'MonthlyCharges', 'TotalCharges', 'tenure']])\n",
        "else:\n",
        "    print(\"No high-value churners found in that cluster\")"
      ],
      "metadata": {
        "colab": {
          "base_uri": "https://localhost:8080/",
          "height": 987
        },
        "id": "a53lWNxMTe9g",
        "outputId": "1d92b06b-861b-43cd-d777-b956c12a5aa7"
      },
      "execution_count": null,
      "outputs": [
        {
          "output_type": "stream",
          "name": "stdout",
          "text": [
            "\n",
            "High-Value Customer Churn Risk by Cluster:\n",
            " Churn           0         1\n",
            "cluster                    \n",
            "0        0.928241  0.071759\n",
            "1        0.733728  0.266272\n",
            "2        1.000000  0.000000\n"
          ]
        },
        {
          "output_type": "display_data",
          "data": {
            "text/plain": [
              "<Figure size 1000x600 with 1 Axes>"
            ],
            "image/png": "[encoded data removed]"
          },
          "metadata": {}
        },
        {
          "output_type": "stream",
          "name": "stdout",
          "text": [
            "\n",
            "Example High-Value Customers at Risk (Cluster 1):\n",
            "\n",
            "      customerID  MonthlyCharges  TotalCharges  tenure\n",
            "13    0280-XJGEX          103.70       5036.30      49\n",
            "26    6467-CHFZW           99.35       4749.15      47\n",
            "110   0486-HECZI           96.75       5238.90      55\n",
            "173   0691-JVSYA           94.85       5000.20      53\n",
            "276   4484-GLZOU          105.05       5624.85      52\n",
            "...          ...             ...           ...     ...\n",
            "6914  7142-HVGBG          103.00       4414.30      43\n",
            "6952  6394-MFYNG          107.40       5121.30      48\n",
            "6972  6664-FPDAC          111.95       6418.90      56\n",
            "7006  0093-XWZFY          104.50       4036.85      40\n",
            "7034  0639-TSIQW          102.95       6886.25      67\n",
            "\n",
            "[180 rows x 4 columns]\n"
          ]
        }
      ]
    },
    {
      "cell_type": "markdown",
      "source": [
        "# 10. Understanding Customer Behavior\n",
        "- **Cluster Profiles**: This section analyzes each cluster to understand what their main characteristcs are in order to better address each specific needs.\n",
        "-**Deeper Dive into High-Churn Clusters**: Now that the clusters with highest churn are identified, they will be further analyzed in order to find specific patterns, service usage or demographical factors that may be contributing to high churn.\n",
        "- **Identifying Key Drivers of Churn within Each Segment**: This section attempts to identify what is the main factor for churn within each specific cluster.\n",
        "- **Customer Journey Analysis**: Discusses other important metrics that should be accounted for, such as first touchpoint, customer service interactions, etc."
      ],
      "metadata": {
        "id": "3wgYXDpa2dfa"
      }
    },
    {
      "cell_type": "code",
      "source": [
        "# Cluster Profiles: Detailed Analysis of Each Cluster\n",
        "print(\"\\n--- Cluster Profiles ---\")\n",
        "cluster_profiles = df.groupby('cluster').agg({\n",
        "    'tenure': 'mean',\n",
        "    'MonthlyCharges': 'mean',\n",
        "    'TotalCharges': 'mean',\n",
        "    'Partner': 'mean',  # Proportion with partner\n",
        "    'Dependents': 'mean', # Proportion with dependents\n",
        "    'SeniorCitizen': 'mean', # Proportion of senior citizens\n",
        "    'Contract_One year': 'mean', #Proportion with one year contract\n",
        "    'Contract_Two year': 'mean', #Proportion with two year contract\n",
        "    'InternetService_Fiber optic': 'mean', # Proportion using fiber optic\n",
        "    'InternetService_No': 'mean',# Proportion without internet\n",
        "    'Churn': 'mean'  # Churn Rate\n",
        "})\n",
        "print(cluster_profiles)"
      ],
      "metadata": {
        "colab": {
          "base_uri": "https://localhost:8080/"
        },
        "id": "7M9kkzwF3wEJ",
        "outputId": "567029c5-9db1-4323-d427-03f9c9f2cf67"
      },
      "execution_count": null,
      "outputs": [
        {
          "output_type": "stream",
          "name": "stdout",
          "text": [
            "\n",
            "--- Cluster Profiles ---\n",
            "            tenure  MonthlyCharges  TotalCharges   Partner  Dependents  \\\n",
            "cluster                                                                  \n",
            "0        56.877224       60.528974   3709.443446  0.705813    0.466785   \n",
            "1        27.735800       89.453382   2623.732791  0.442078    0.189836   \n",
            "2        21.586721       42.777881   1037.276427  0.383812    0.303991   \n",
            "\n",
            "         SeniorCitizen  Contract_One year  Contract_Two year  \\\n",
            "cluster                                                        \n",
            "0             0.085409           0.000000           1.000000   \n",
            "1             0.284380           0.201420           0.003363   \n",
            "2             0.088400           0.348377           0.000000   \n",
            "\n",
            "         InternetService_Fiber optic  InternetService_No     Churn  \n",
            "cluster                                                             \n",
            "0                            0.24911             0.37841  0.028470  \n",
            "1                            1.00000             0.00000  0.473094  \n",
            "2                            0.00000             0.33122  0.207012  \n"
          ]
        }
      ]
    },
    {
      "cell_type": "code",
      "source": [
        "# Deeper Dive into High-Churn Clusters\n",
        "print(\"\\n--- Detailed Analysis of High-Churn Cluster(s) ---\")\n",
        "\n",
        "# Identify the cluster(s) with the highest churn rate.  Handling potential ties.\n",
        "highest_churn_clusters = cluster_churn_rate[cluster_churn_rate[1] == cluster_churn_rate[1].max()].index.tolist()\n",
        "\n",
        "for cluster_id in highest_churn_clusters:\n",
        "    print(f\"\\n--- Analysis for Cluster {cluster_id} ---\")\n",
        "\n",
        "    # Demographics and Relationship Status\n",
        "    print(\"\\nDemographics & Relationships:\")\n",
        "    print(f\"  Average Senior Citizen: {df[df['cluster'] == cluster_id]['SeniorCitizen'].mean():.2f}\")\n",
        "    print(f\"  Proportion with Partner: {df[df['cluster'] == cluster_id]['Partner'].mean():.2f}\")\n",
        "    print(f\"  Proportion with Dependents: {df[df['cluster'] == cluster_id]['Dependents'].mean():.2f}\")\n",
        "\n",
        "    # Service Usage Patterns\n",
        "    print(\"\\nService Usage:\")\n",
        "    print(f\"  Average Monthly Charges: ${df[df['cluster'] == cluster_id]['MonthlyCharges'].mean():.2f}\")\n",
        "    print(f\"  Average Tenure: {df[df['cluster'] == cluster_id]['tenure'].mean():.2f} months\")\n",
        "    print(f\"  Proportion Fiber Optic: {df[df['cluster'] == cluster_id]['InternetService_Fiber optic'].mean():.2f}\")\n",
        "    print(f\"  Proportion No Internet: {df[df['cluster'] == cluster_id]['InternetService_No'].mean():.2f}\")\n",
        "\n",
        "    # Contract Preferences\n",
        "    print(\"\\nContract Preferences:\")\n",
        "    print(f\"  Proportion One-Year Contract: {df[df['cluster'] == cluster_id]['Contract_One year'].mean():.2f}\")\n",
        "    print(f\"  Proportion Two-Year Contract: {df[df['cluster'] == cluster_id]['Contract_Two year'].mean():.2f}\")\n",
        "\n",
        "    #Payment Type\n",
        "    print(\"\\nPayment Method Preference:\")\n",
        "    payment_counts = df[df['cluster'] == cluster_id]['PaymentMethod'].value_counts(normalize=True)\n",
        "    print(payment_counts)\n",
        "\n",
        "    #churn Rate\n",
        "    print(f\"Churn Rate: {df[df['cluster'] == cluster_id]['Churn'].mean():.2f}\")\n",
        "\n",
        "    #Visualize Service Usage Patterns in the Cluster (Example)\n",
        "    plt.figure(figsize=(8, 6))\n",
        "    sns.histplot(df[df['cluster'] == cluster_id]['MonthlyCharges'], kde=True) #Histogram with KDE\n",
        "    plt.title(f\"Distribution of Monthly Charges in Cluster {cluster_id}\", fontsize=14)\n",
        "    plt.xlabel(\"Monthly Charges\", fontsize=12)\n",
        "    plt.ylabel(\"Frequency\", fontsize=12)\n",
        "    plt.show()\n"
      ],
      "metadata": {
        "colab": {
          "base_uri": "https://localhost:8080/",
          "height": 1000
        },
        "id": "oTIFqiBi30V6",
        "outputId": "a75152c9-ff45-4d52-bc71-c1468ab1de47"
      },
      "execution_count": null,
      "outputs": [
        {
          "output_type": "stream",
          "name": "stdout",
          "text": [
            "\n",
            "--- Detailed Analysis of High-Churn Cluster(s) ---\n",
            "\n",
            "--- Analysis for Cluster 1 ---\n",
            "\n",
            "Demographics & Relationships:\n",
            "  Average Senior Citizen: 0.28\n",
            "  Proportion with Partner: 0.44\n",
            "  Proportion with Dependents: 0.19\n",
            "\n",
            "Service Usage:\n",
            "  Average Monthly Charges: $89.45\n",
            "  Average Tenure: 27.74 months\n",
            "  Proportion Fiber Optic: 1.00\n",
            "  Proportion No Internet: 0.00\n",
            "\n",
            "Contract Preferences:\n",
            "  Proportion One-Year Contract: 0.20\n",
            "  Proportion Two-Year Contract: 0.00\n",
            "\n",
            "Payment Method Preference:\n",
            "PaymentMethod\n",
            "Electronic check             0.563154\n",
            "Bank transfer (automatic)    0.181614\n",
            "Credit card (automatic)      0.166293\n",
            "Mailed check                 0.088939\n",
            "Name: proportion, dtype: float64\n",
            "Churn Rate: 0.47\n"
          ]
        },
        {
          "output_type": "display_data",
          "data": {
            "text/plain": [
              "<Figure size 800x600 with 1 Axes>"
            ],
            "image/png": "[encoded data removed]"
          },
          "metadata": {}
        }
      ]
    },
    {
      "cell_type": "code",
      "source": [
        "# Identifying Key Drivers of Churn within Each Segment\n",
        "# (This would ideally involve building a classification model, but for this example, we'll look at correlations)\n",
        "print(\"\\n--- Churn Correlation Analysis within Segments ---\")\n",
        "for cluster_id in range(optimal_clusters):  # Iterate through each cluster\n",
        "    print(f\"\\n--- Correlation Analysis for Cluster {cluster_id} ---\")\n",
        "    cluster_data = df[df['cluster'] == cluster_id]\n",
        "\n",
        "    # Select only numeric columns for correlation calculation\n",
        "    numeric_columns = cluster_data.select_dtypes(include=np.number).columns\n",
        "    if 'Churn' in numeric_columns:\n",
        "        correlation_matrix = cluster_data[numeric_columns].corr()['Churn'].sort_values(ascending=False)\n",
        "        print(correlation_matrix)\n",
        "    else:\n",
        "        print(\"Churn column not found in numeric columns for this cluster.\")"
      ],
      "metadata": {
        "colab": {
          "base_uri": "https://localhost:8080/"
        },
        "id": "JsCDNLiwVSCo",
        "outputId": "d6959633-ccb6-4f89-f2dc-cf4725723d3c"
      },
      "execution_count": null,
      "outputs": [
        {
          "output_type": "stream",
          "name": "stdout",
          "text": [
            "\n",
            "--- Churn Correlation Analysis within Segments ---\n",
            "\n",
            "--- Correlation Analysis for Cluster 0 ---\n",
            "Churn               1.000000\n",
            "MonthlyCharges      0.129864\n",
            "TotalCharges        0.114097\n",
            "PaperlessBilling    0.077414\n",
            "StreamingTV         0.056121\n",
            "tenure              0.041451\n",
            "StreamingMovies     0.031578\n",
            "SeniorCitizen       0.024249\n",
            "PhoneService        0.019217\n",
            "gender              0.013453\n",
            "DeviceProtection    0.008787\n",
            "Partner            -0.022532\n",
            "Dependents         -0.031494\n",
            "OnlineBackup       -0.045591\n",
            "TechSupport        -0.050261\n",
            "OnlineSecurity     -0.089864\n",
            "cluster                  NaN\n",
            "Name: Churn, dtype: float64\n",
            "\n",
            "--- Correlation Analysis for Cluster 1 ---\n",
            "Churn               1.000000\n",
            "PaperlessBilling    0.092347\n",
            "SeniorCitizen       0.051392\n",
            "StreamingTV        -0.008539\n",
            "StreamingMovies    -0.018873\n",
            "gender             -0.021280\n",
            "Dependents         -0.094151\n",
            "Partner            -0.115549\n",
            "DeviceProtection   -0.128375\n",
            "MonthlyCharges     -0.138533\n",
            "OnlineBackup       -0.159720\n",
            "TechSupport        -0.170029\n",
            "OnlineSecurity     -0.191456\n",
            "TotalCharges       -0.351295\n",
            "tenure             -0.370484\n",
            "PhoneService             NaN\n",
            "cluster                  NaN\n",
            "Name: Churn, dtype: float64\n",
            "\n",
            "--- Correlation Analysis for Cluster 2 ---\n",
            "Churn               1.000000\n",
            "PaperlessBilling    0.104092\n",
            "SeniorCitizen       0.097089\n",
            "MonthlyCharges      0.008002\n",
            "gender              0.006883\n",
            "StreamingMovies    -0.030804\n",
            "StreamingTV        -0.052659\n",
            "DeviceProtection   -0.101947\n",
            "Dependents         -0.103503\n",
            "Partner            -0.109825\n",
            "PhoneService       -0.137611\n",
            "OnlineBackup       -0.142260\n",
            "TechSupport        -0.159566\n",
            "OnlineSecurity     -0.183896\n",
            "TotalCharges       -0.195068\n",
            "tenure             -0.262748\n",
            "cluster                  NaN\n",
            "Name: Churn, dtype: float64\n"
          ]
        }
      ]
    },
    {
      "cell_type": "markdown",
      "source": [
        "# Customer Journey Analysis (Conceptual - requires more data)\n",
        "\n",
        "To fully understand customer behavior, we'd ideally analyze the customer journey:\n",
        "- First touchpoint (how did they find us?)\n",
        "- Initial service selection\"\n",
        "- Upgrades/downgrades over time\"\n",
        "- Customer service interactions\"\n",
        "- Reasons for churn (if available)\"\n",
        "\n",
        "This requires tracking customer interactions across different channels.\""
      ],
      "metadata": {
        "id": "IlWFf-cS28ge"
      }
    }
  ]
}